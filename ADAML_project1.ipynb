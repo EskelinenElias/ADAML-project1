{
  "nbformat": 4,
  "nbformat_minor": 0,
  "metadata": {
    "colab": {
      "provenance": [],
      "include_colab_link": true
    },
    "kernelspec": {
      "name": "python3",
      "display_name": "Python 3"
    },
    "language_info": {
      "name": "python"
    }
  },
  "cells": [
    {
      "cell_type": "markdown",
      "metadata": {
        "id": "view-in-github",
        "colab_type": "text"
      },
      "source": [
        "<a href=\"https://colab.research.google.com/github/EskelinenElias/ADAML-project1/blob/main/ADAML_project1.ipynb\" target=\"_parent\"><img src=\"https://colab.research.google.com/assets/colab-badge.svg\" alt=\"Open In Colab\"/></a>"
      ]
    },
    {
      "cell_type": "markdown",
      "source": [
        "## Instructions\n",
        "\n",
        "\n",
        "In this week, you will be getting familiar with the data. At the end of the week, the goal is to have clean data, efficiently imported into your workspace, and visualized, and to understand what the data is used for. The PDF you will return will have max. 2 pages.\n",
        "\n",
        "Breakdown of the points:\n",
        "\n",
        "0.25p   \n",
        "- an established communication channel and appropriate strategy for code sharing.\n",
        "\n",
        "0.25p   \n",
        "- data correctly imported into appropriate matrices completely: observations as rows, variables (predictors) as columns.\n",
        "\n",
        "0.5p     \n",
        "- identification of challenges of the data: for example: time series not synchronized, missing values in data, extra variables, variables with unknown physical meanings, etc.\n",
        "\n",
        "0.5p     \n",
        "- a visualization and comment on the dataset: variable distribution, number of observations, type of measurements (time series or not time series)\n",
        "\n",
        "3p         \n",
        "- exploratory data analysis with PCA: explain variable correlations and visualize the PCs using biplots, loading plots; (! only on the X matrix - we are not looking at the response variable now)\n",
        "\n",
        "0.5p     \n",
        "- identification of pretreatment steps, and a plan on how to do data pretreatment"
      ],
      "metadata": {
        "id": "THXqwvREebc6"
      }
    },
    {
      "cell_type": "markdown",
      "source": [
        "## Loading the data"
      ],
      "metadata": {
        "id": "Sh-t3hQCeENM"
      }
    },
    {
      "cell_type": "code",
      "source": [
        "import numpy as np\n",
        "import pandas as pd\n",
        "\n",
        "path = \"data.csv\"\n",
        "data = pd.read_csv(path)\n",
        "\n",
        "# Format date column\n",
        "data['date'] = pd.to_datetime(data['date'], format='%Y-%m-%d %H:%M:%S')\n",
        "\n",
        "# Format other columns\n",
        "for column in data.columns[1:]:\n",
        "\n",
        "    data[column] = data[column].str.replace(',', '.')\n",
        "    data[column] = data[column].astype(float)\n",
        "\n",
        "print(data.head())\n",
        "print(len(data))"
      ],
      "metadata": {
        "id": "1MBTlQvEXMoV",
        "colab": {
          "base_uri": "https://localhost:8080/"
        },
        "outputId": "23114410-6b3f-41a2-fafc-e07cfc4148e4"
      },
      "execution_count": null,
      "outputs": [
        {
          "output_type": "stream",
          "name": "stdout",
          "text": [
            "                 date  % Iron Feed  % Silica Feed  Starch Flow  Amina Flow  \\\n",
            "0 2017-03-10 01:00:00         55.2          16.98      3019.53     557.434   \n",
            "1 2017-03-10 01:00:00         55.2          16.98      3024.41     563.965   \n",
            "2 2017-03-10 01:00:00         55.2          16.98      3043.46     568.054   \n",
            "3 2017-03-10 01:00:00         55.2          16.98      3047.36     568.665   \n",
            "4 2017-03-10 01:00:00         55.2          16.98      3033.69     558.167   \n",
            "\n",
            "   Ore Pulp Flow  Ore Pulp pH  Ore Pulp Density  Flotation Column 01 Air Flow  \\\n",
            "0        395.713      10.0664              1.74                       249.214   \n",
            "1        397.383      10.0672              1.74                       249.719   \n",
            "2        399.668      10.0680              1.74                       249.741   \n",
            "3        397.939      10.0689              1.74                       249.917   \n",
            "4        400.254      10.0697              1.74                       250.203   \n",
            "\n",
            "   Flotation Column 02 Air Flow  ...  Flotation Column 07 Air Flow  \\\n",
            "0                       253.235  ...                       250.884   \n",
            "1                       250.532  ...                       248.994   \n",
            "2                       247.874  ...                       248.071   \n",
            "3                       254.487  ...                       251.147   \n",
            "4                       252.136  ...                       248.928   \n",
            "\n",
            "   Flotation Column 01 Level  Flotation Column 02 Level  \\\n",
            "0                    457.396                    432.962   \n",
            "1                    451.891                    429.560   \n",
            "2                    451.240                    468.927   \n",
            "3                    452.441                    458.165   \n",
            "4                    452.441                    452.900   \n",
            "\n",
            "   Flotation Column 03 Level  Flotation Column 04 Level  \\\n",
            "0                    424.954                    443.558   \n",
            "1                    432.939                    448.086   \n",
            "2                    434.610                    449.688   \n",
            "3                    442.865                    446.210   \n",
            "4                    450.523                    453.670   \n",
            "\n",
            "   Flotation Column 05 Level  Flotation Column 06 Level  \\\n",
            "0                    502.255                    446.370   \n",
            "1                    496.363                    445.922   \n",
            "2                    484.411                    447.826   \n",
            "3                    471.411                    437.690   \n",
            "4                    462.598                    443.682   \n",
            "\n",
            "   Flotation Column 07 Level  % Iron Concentrate  % Silica Concentrate  \n",
            "0                    523.344               66.91                  1.31  \n",
            "1                    498.075               66.91                  1.31  \n",
            "2                    458.567               66.91                  1.31  \n",
            "3                    427.669               66.91                  1.31  \n",
            "4                    425.679               66.91                  1.31  \n",
            "\n",
            "[5 rows x 24 columns]\n",
            "737453\n"
          ]
        }
      ]
    }
  ]
}