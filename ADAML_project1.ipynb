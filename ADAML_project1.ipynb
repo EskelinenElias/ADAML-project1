{
  "nbformat": 4,
  "nbformat_minor": 0,
  "metadata": {
    "colab": {
      "provenance": [],
      "include_colab_link": true
    },
    "kernelspec": {
      "name": "python3",
      "display_name": "Python 3"
    },
    "language_info": {
      "name": "python"
    }
  },
  "cells": [
    {
      "cell_type": "markdown",
      "metadata": {
        "id": "view-in-github",
        "colab_type": "text"
      },
      "source": [
        "<a href=\"https://colab.research.google.com/github/EskelinenElias/ADAML-project1/blob/main/ADAML_project1.ipynb\" target=\"_parent\"><img src=\"https://colab.research.google.com/assets/colab-badge.svg\" alt=\"Open In Colab\"/></a>"
      ]
    },
    {
      "cell_type": "code",
      "execution_count": null,
      "metadata": {
        "id": "DRQroozOVv1I",
        "outputId": "e6890769-556a-4b82-b6bb-e215312ec5da",
        "colab": {
          "base_uri": "https://localhost:8080/"
        }
      },
      "outputs": [
        {
          "output_type": "stream",
          "name": "stdout",
          "text": [
            "HEllo, world!\n"
          ]
        }
      ],
      "source": [
        "print(\"HEllo, world!\")"
      ]
    },
    {
      "cell_type": "code",
      "source": [
        "import numpy as np\n",
        "import pandas as pd\n",
        "\n",
        "path = \"data.csv\"\n",
        "data = pd.read_csv(path)\n",
        "\n",
        "# Format date column\n",
        "data['date'] = pd.to_datetime(data['date'], format='%Y-%m-%d %H:%M:%S')\n",
        "\n",
        "# Format other columns\n",
        "for column in data.columns[1:]:\n",
        "\n",
        "    data[column] = data[column].str.replace(',', '.')\n",
        "    data[column] = data[column].astype(float)\n",
        "\n",
        "\n",
        "\n",
        "print(data.head())"
      ],
      "metadata": {
        "id": "1MBTlQvEXMoV",
        "colab": {
          "base_uri": "https://localhost:8080/"
        },
        "outputId": "160d3d66-cdfc-4fc9-d49a-79ca507dfea7"
      },
      "execution_count": 17,
      "outputs": [
        {
          "output_type": "stream",
          "name": "stdout",
          "text": [
            "                 date  % Iron Feed  % Silica Feed  Starch Flow  Amina Flow  \\\n",
            "0 2017-03-10 01:00:00         55.2          16.98      3019.53     557.434   \n",
            "1 2017-03-10 01:00:00         55.2          16.98      3024.41     563.965   \n",
            "2 2017-03-10 01:00:00         55.2          16.98      3043.46     568.054   \n",
            "3 2017-03-10 01:00:00         55.2          16.98      3047.36     568.665   \n",
            "4 2017-03-10 01:00:00         55.2          16.98      3033.69     558.167   \n",
            "\n",
            "   Ore Pulp Flow  Ore Pulp pH  Ore Pulp Density  Flotation Column 01 Air Flow  \\\n",
            "0        395.713      10.0664              1.74                       249.214   \n",
            "1        397.383      10.0672              1.74                       249.719   \n",
            "2        399.668      10.0680              1.74                       249.741   \n",
            "3        397.939      10.0689              1.74                       249.917   \n",
            "4        400.254      10.0697              1.74                       250.203   \n",
            "\n",
            "   Flotation Column 02 Air Flow  ...  Flotation Column 07 Air Flow  \\\n",
            "0                       253.235  ...                       250.884   \n",
            "1                       250.532  ...                       248.994   \n",
            "2                       247.874  ...                       248.071   \n",
            "3                       254.487  ...                       251.147   \n",
            "4                       252.136  ...                       248.928   \n",
            "\n",
            "   Flotation Column 01 Level  Flotation Column 02 Level  \\\n",
            "0                    457.396                    432.962   \n",
            "1                    451.891                    429.560   \n",
            "2                    451.240                    468.927   \n",
            "3                    452.441                    458.165   \n",
            "4                    452.441                    452.900   \n",
            "\n",
            "   Flotation Column 03 Level  Flotation Column 04 Level  \\\n",
            "0                    424.954                    443.558   \n",
            "1                    432.939                    448.086   \n",
            "2                    434.610                    449.688   \n",
            "3                    442.865                    446.210   \n",
            "4                    450.523                    453.670   \n",
            "\n",
            "   Flotation Column 05 Level  Flotation Column 06 Level  \\\n",
            "0                    502.255                    446.370   \n",
            "1                    496.363                    445.922   \n",
            "2                    484.411                    447.826   \n",
            "3                    471.411                    437.690   \n",
            "4                    462.598                    443.682   \n",
            "\n",
            "   Flotation Column 07 Level  % Iron Concentrate  % Silica Concentrate  \n",
            "0                    523.344               66.91                  1.31  \n",
            "1                    498.075               66.91                  1.31  \n",
            "2                    458.567               66.91                  1.31  \n",
            "3                    427.669               66.91                  1.31  \n",
            "4                    425.679               66.91                  1.31  \n",
            "\n",
            "[5 rows x 24 columns]\n"
          ]
        }
      ]
    }
  ]
}