{
  "cells": [
    {
      "cell_type": "markdown",
      "metadata": {
        "id": "view-in-github",
        "colab_type": "text"
      },
      "source": [
        "<a href=\"https://colab.research.google.com/github/EskelinenElias/ADAML-project1/blob/main/data_modeling_plan.ipynb\" target=\"_parent\"><img src=\"https://colab.research.google.com/assets/colab-badge.svg\" alt=\"Open In Colab\"/></a>"
      ]
    },
    {
      "cell_type": "markdown",
      "id": "c0aa8be4",
      "metadata": {
        "id": "c0aa8be4"
      },
      "source": [
        "# ADAML Project Work: Intermediary Submission 2 - Data Modeling Plan\n",
        "\n",
        "LUT University \\\n",
        "BM20A6100 Advanced Data Analysis and Machine Learning - Blended teaching, Lpr 1.9.2025-12.12.2025 \\\n",
        "1st Period - Project work - Intermediary Submission 2 - Data modeling plan\n",
        "\n",
        "Elias Eskelinen, Vili Niemelä & Matti Aalto \\\n",
        "25.9.2025"
      ]
    },
    {
      "cell_type": "markdown",
      "id": "5e078909",
      "metadata": {
        "id": "5e078909"
      },
      "source": [
        "---"
      ]
    },
    {
      "cell_type": "markdown",
      "source": [
        "## Intermediary Submission 2 - Instructions\n",
        "\n",
        "Based on your initial evaluation, the received feedback and the strategies of other groups, perform data pretreatment. There will be a max. 2 pages addition to your project PDF for the pretreatment part.\n",
        "\n",
        "Breakdown of the points:\n",
        "\n",
        "0.5p   - feedback incorporation and adjustment of the initial pretreatment plan\n",
        "0.5p  - data centering and scaling techniques\n",
        "0.5p  - evaluation of extreme/ missing values and mitigating actions, data synchronization (for time series), sampling\n",
        "0.5p   - visualizing pretreated data\n",
        "Modelling plan\n",
        "\n",
        "Make a modelling plan for your modelling goal. Create a flowchart of the operations needed to accomplish the task, and assign roles to the team members for each step. The start of each flow chart should be the cleaned data, and the end of it should be the modelling goal achieved. If there is more than one modelling goal, the flowchart can take multiple paths. There will be a max. 2 pages addition to your project PDF for the modelling plan part.\n",
        "\n",
        "0.5p     - modelling goal (What is the purpose of your data analysis?);\n",
        "0.5p     - model calibration strategy: tools used, methodology, data used;\n",
        "0.5p     - model validation strategy: scope of validation, methodology;\n",
        "0.5p     - model testing strategy: metrics and data used;\n",
        "0.5p     - description of the mathematical methods used in modelling;\n",
        "0.5p     - model diagram/ operations flowchart.\n"
      ],
      "metadata": {
        "id": "lIUkxsW8URsX"
      },
      "id": "lIUkxsW8URsX"
    },
    {
      "cell_type": "markdown",
      "id": "6c6b7c57",
      "metadata": {
        "id": "6c6b7c57"
      },
      "source": [
        "## Data onboarding"
      ]
    },
    {
      "cell_type": "markdown",
      "source": [
        "Fetch data from kaggle:"
      ],
      "metadata": {
        "id": "nuVbIyLKWYsT"
      },
      "id": "nuVbIyLKWYsT"
    },
    {
      "cell_type": "code",
      "source": [
        "import kagglehub\n",
        "import os\n",
        "\n",
        "# Fetch the latest version of the dataset from kaggle\n",
        "data_dir = kagglehub.dataset_download(\"edumagalhaes/quality-prediction-in-a-mining-process\")\n",
        "\n",
        "data_path = os.path.join(data_dir, os.listdir(data_dir)[0])\n",
        "print(\"Path to dataset files:\", data_path)"
      ],
      "metadata": {
        "colab": {
          "base_uri": "https://localhost:8080/"
        },
        "id": "do5w1FHjWYOY",
        "outputId": "0668caf2-75e8-4bca-d68c-efc901e4335e"
      },
      "id": "do5w1FHjWYOY",
      "execution_count": 25,
      "outputs": [
        {
          "output_type": "stream",
          "name": "stdout",
          "text": [
            "Using Colab cache for faster access to the 'quality-prediction-in-a-mining-process' dataset.\n",
            "Path to dataset files: /kaggle/input/quality-prediction-in-a-mining-process/MiningProcess_Flotation_Plant_Database.csv\n"
          ]
        }
      ]
    },
    {
      "cell_type": "markdown",
      "source": [
        "Loading the data"
      ],
      "metadata": {
        "id": "U71MX11yVdPE"
      },
      "id": "U71MX11yVdPE"
    },
    {
      "cell_type": "code",
      "source": [
        "import numpy as np\n",
        "import pandas as pd\n",
        "import matplotlib.pyplot as plt\n",
        "\n",
        "data = pd.read_csv(data_path)"
      ],
      "metadata": {
        "id": "thHmbIefVZBc"
      },
      "id": "thHmbIefVZBc",
      "execution_count": 26,
      "outputs": []
    },
    {
      "cell_type": "markdown",
      "source": [
        "Formatting the data"
      ],
      "metadata": {
        "id": "--2wz2EtVeoi"
      },
      "id": "--2wz2EtVeoi"
    },
    {
      "cell_type": "code",
      "source": [
        "# Format date column as dates\n",
        "data['date'] = pd.to_datetime(data['date'], format='%Y-%m-%d %H:%M:%S')\n",
        "\n",
        "# Format other columns as decimal numbers\n",
        "for c in data.columns[1:]: data[c] = data[c].str.replace(',', '.').astype(float)"
      ],
      "metadata": {
        "id": "6NHky7oJVf2t"
      },
      "id": "6NHky7oJVf2t",
      "execution_count": 27,
      "outputs": []
    },
    {
      "cell_type": "markdown",
      "source": [
        "Resampling the data"
      ],
      "metadata": {
        "id": "c2sXE0kBVle5"
      },
      "id": "c2sXE0kBVle5"
    },
    {
      "cell_type": "code",
      "source": [
        "# Resample the data to 1 hour frequency\n",
        "data = data.groupby(\"date\").mean(numeric_only=True).reset_index()"
      ],
      "metadata": {
        "id": "uIXQZjeoVm79"
      },
      "id": "uIXQZjeoVm79",
      "execution_count": 22,
      "outputs": []
    },
    {
      "cell_type": "markdown",
      "source": [
        "Check data size and shape"
      ],
      "metadata": {
        "id": "iBmBa4DTZtVg"
      },
      "id": "iBmBa4DTZtVg"
    },
    {
      "cell_type": "code",
      "source": [
        "print(data.shape)"
      ],
      "metadata": {
        "colab": {
          "base_uri": "https://localhost:8080/"
        },
        "id": "5a3dwJhjZvRi",
        "outputId": "e9e69cc1-deac-4515-eba8-33fc3f3bb804"
      },
      "id": "5a3dwJhjZvRi",
      "execution_count": 24,
      "outputs": [
        {
          "output_type": "stream",
          "name": "stdout",
          "text": [
            "(4097, 24)\n"
          ]
        }
      ]
    },
    {
      "cell_type": "markdown",
      "source": [
        "## Data preprocessing"
      ],
      "metadata": {
        "id": "-y_40xTraat_"
      },
      "id": "-y_40xTraat_"
    },
    {
      "cell_type": "markdown",
      "source": [
        "Normalizing the data"
      ],
      "metadata": {
        "id": "WUs3syAYaYfK"
      },
      "id": "WUs3syAYaYfK"
    },
    {
      "cell_type": "code",
      "source": [
        "normalized_cols = data[data.columns[1:]] # Normalize all columns except the date column\n",
        "\n",
        "means = normalized_cols.mean()\n",
        "stds = normalized_cols.std()\n",
        "\n",
        "data[data.columns[1:]] = (normalized_cols - means) / stds\n",
        "\n",
        "print(data.mean())\n",
        "print(data.std())"
      ],
      "metadata": {
        "id": "F1HyhIAYa3N4",
        "outputId": "d15364e1-fa0a-4ccb-e1b4-f2444f935d47",
        "colab": {
          "base_uri": "https://localhost:8080/"
        }
      },
      "id": "F1HyhIAYa3N4",
      "execution_count": 34,
      "outputs": [
        {
          "output_type": "stream",
          "name": "stdout",
          "text": [
            "date                            2017-06-16 03:27:22.656549376\n",
            "% Iron Feed                                              -0.0\n",
            "% Silica Feed                                            -0.0\n",
            "Starch Flow                                               0.0\n",
            "Amina Flow                                                0.0\n",
            "Ore Pulp Flow                                            -0.0\n",
            "Ore Pulp pH                                              -0.0\n",
            "Ore Pulp Density                                          0.0\n",
            "Flotation Column 01 Air Flow                              0.0\n",
            "Flotation Column 02 Air Flow                              0.0\n",
            "Flotation Column 03 Air Flow                             -0.0\n",
            "Flotation Column 04 Air Flow                              0.0\n",
            "Flotation Column 05 Air Flow                             -0.0\n",
            "Flotation Column 06 Air Flow                              0.0\n",
            "Flotation Column 07 Air Flow                              0.0\n",
            "Flotation Column 01 Level                                 0.0\n",
            "Flotation Column 02 Level                                 0.0\n",
            "Flotation Column 03 Level                                -0.0\n",
            "Flotation Column 04 Level                                 0.0\n",
            "Flotation Column 05 Level                                -0.0\n",
            "Flotation Column 06 Level                                -0.0\n",
            "Flotation Column 07 Level                                 0.0\n",
            "% Iron Concentrate                                        0.0\n",
            "% Silica Concentrate                                     -0.0\n",
            "dtype: object\n",
            "date                            50 days 03:18:34.311847674\n",
            "% Iron Feed                                            1.0\n",
            "% Silica Feed                                          1.0\n",
            "Starch Flow                                            1.0\n",
            "Amina Flow                                             1.0\n",
            "Ore Pulp Flow                                          1.0\n",
            "Ore Pulp pH                                            1.0\n",
            "Ore Pulp Density                                       1.0\n",
            "Flotation Column 01 Air Flow                           1.0\n",
            "Flotation Column 02 Air Flow                           1.0\n",
            "Flotation Column 03 Air Flow                           1.0\n",
            "Flotation Column 04 Air Flow                           1.0\n",
            "Flotation Column 05 Air Flow                           1.0\n",
            "Flotation Column 06 Air Flow                           1.0\n",
            "Flotation Column 07 Air Flow                           1.0\n",
            "Flotation Column 01 Level                              1.0\n",
            "Flotation Column 02 Level                              1.0\n",
            "Flotation Column 03 Level                              1.0\n",
            "Flotation Column 04 Level                              1.0\n",
            "Flotation Column 05 Level                              1.0\n",
            "Flotation Column 06 Level                              1.0\n",
            "Flotation Column 07 Level                              1.0\n",
            "% Iron Concentrate                                     1.0\n",
            "% Silica Concentrate                                   1.0\n",
            "dtype: object\n"
          ]
        }
      ]
    }
  ],
  "metadata": {
    "colab": {
      "provenance": [],
      "include_colab_link": true
    },
    "kernelspec": {
      "display_name": "Python 3",
      "language": "python",
      "name": "python3"
    },
    "language_info": {
      "codemirror_mode": {
        "name": "ipython",
        "version": 3
      },
      "file_extension": ".py",
      "mimetype": "text/x-python",
      "name": "python",
      "nbconvert_exporter": "python",
      "pygments_lexer": "ipython3",
      "version": "3.13.5"
    }
  },
  "nbformat": 4,
  "nbformat_minor": 5
}