{
  "cells": [
    {
      "cell_type": "markdown",
      "metadata": {
        "colab_type": "text",
        "id": "view-in-github"
      },
      "source": [
        "<a href=\"https://colab.research.google.com/github/EskelinenElias/ADAML-project1/blob/main/data_modeling_plan.ipynb\" target=\"_parent\"><img src=\"https://colab.research.google.com/assets/colab-badge.svg\" alt=\"Open In Colab\"/></a>"
      ]
    },
    {
      "cell_type": "markdown",
      "id": "c0aa8be4",
      "metadata": {
        "id": "c0aa8be4"
      },
      "source": [
        "# ADAML Project Work: Intermediary Submission 2 - Data Modeling Plan\n",
        "\n",
        "LUT University \\\n",
        "BM20A6100 Advanced Data Analysis and Machine Learning - Blended teaching, Lpr 1.9.2025-12.12.2025 \\\n",
        "1st Period - Project work - Intermediary Submission 2 - Data modeling plan\n",
        "\n",
        "Elias Eskelinen, Vili Niemelä & Matti Aalto \\\n",
        "25.9.2025"
      ]
    },
    {
      "cell_type": "markdown",
      "id": "5e078909",
      "metadata": {
        "id": "5e078909"
      },
      "source": [
        "---"
      ]
    },
    {
      "cell_type": "markdown",
      "id": "lIUkxsW8URsX",
      "metadata": {
        "id": "lIUkxsW8URsX"
      },
      "source": [
        "## Intermediary Submission 2 - Instructions\n",
        "\n",
        "Based on your initial evaluation, the received feedback and the strategies of other groups, perform data pretreatment. There will be a max. 2 pages addition to your project PDF for the pretreatment part.\n",
        "\n",
        "Breakdown of the points:\n",
        "\n",
        "0.5p   - feedback incorporation and adjustment of the initial pretreatment plan\n",
        "0.5p  - data centering and scaling techniques\n",
        "0.5p  - evaluation of extreme/ missing values and mitigating actions, data synchronization (for time series), sampling\n",
        "0.5p   - visualizing pretreated data\n",
        "Modelling plan\n",
        "\n",
        "Make a modelling plan for your modelling goal. Create a flowchart of the operations needed to accomplish the task, and assign roles to the team members for each step. The start of each flow chart should be the cleaned data, and the end of it should be the modelling goal achieved. If there is more than one modelling goal, the flowchart can take multiple paths. There will be a max. 2 pages addition to your project PDF for the modelling plan part.\n",
        "\n",
        "0.5p     - modelling goal (What is the purpose of your data analysis?);\n",
        "0.5p     - model calibration strategy: tools used, methodology, data used;\n",
        "0.5p     - model validation strategy: scope of validation, methodology;\n",
        "0.5p     - model testing strategy: metrics and data used;\n",
        "0.5p     - description of the mathematical methods used in modelling;\n",
        "0.5p     - model diagram/ operations flowchart.\n"
      ]
    },
    {
      "cell_type": "markdown",
      "id": "6c6b7c57",
      "metadata": {
        "id": "6c6b7c57"
      },
      "source": [
        "## Data onboarding"
      ]
    },
    {
      "cell_type": "markdown",
      "id": "nuVbIyLKWYsT",
      "metadata": {
        "id": "nuVbIyLKWYsT"
      },
      "source": [
        "Fetch data from kaggle:"
      ]
    },
    {
      "cell_type": "code",
      "execution_count": 1,
      "id": "do5w1FHjWYOY",
      "metadata": {
        "colab": {
          "base_uri": "https://localhost:8080/"
        },
        "id": "do5w1FHjWYOY",
        "outputId": "0668caf2-75e8-4bca-d68c-efc901e4335e"
      },
      "outputs": [
        {
          "name": "stderr",
          "output_type": "stream",
          "text": [
            "/Library/Frameworks/Python.framework/Versions/3.13/lib/python3.13/site-packages/tqdm/auto.py:21: TqdmWarning: IProgress not found. Please update jupyter and ipywidgets. See https://ipywidgets.readthedocs.io/en/stable/user_install.html\n",
            "  from .autonotebook import tqdm as notebook_tqdm\n"
          ]
        },
        {
          "name": "stdout",
          "output_type": "stream",
          "text": [
            "Path to dataset files: /Users/eliaseskelinen/.cache/kagglehub/datasets/edumagalhaes/quality-prediction-in-a-mining-process/versions/1/MiningProcess_Flotation_Plant_Database.csv\n"
          ]
        }
      ],
      "source": [
        "import kagglehub\n",
        "import os\n",
        "\n",
        "# Fetch the latest version of the dataset from kaggle\n",
        "data_dir = kagglehub.dataset_download(\"edumagalhaes/quality-prediction-in-a-mining-process\")\n",
        "\n",
        "data_path = os.path.join(data_dir, os.listdir(data_dir)[0])\n",
        "print(\"Path to dataset files:\", data_path)"
      ]
    },
    {
      "cell_type": "markdown",
      "id": "U71MX11yVdPE",
      "metadata": {
        "id": "U71MX11yVdPE"
      },
      "source": [
        "Loading the data"
      ]
    },
    {
      "cell_type": "code",
      "execution_count": 2,
      "id": "thHmbIefVZBc",
      "metadata": {
        "id": "thHmbIefVZBc"
      },
      "outputs": [],
      "source": [
        "import numpy as np\n",
        "import pandas as pd\n",
        "import matplotlib.pyplot as plt\n",
        "\n",
        "data = pd.read_csv(data_path)"
      ]
    },
    {
      "cell_type": "markdown",
      "id": "--2wz2EtVeoi",
      "metadata": {
        "id": "--2wz2EtVeoi"
      },
      "source": [
        "Formatting the data"
      ]
    },
    {
      "cell_type": "code",
      "execution_count": 3,
      "id": "6NHky7oJVf2t",
      "metadata": {
        "id": "6NHky7oJVf2t"
      },
      "outputs": [],
      "source": [
        "# Format date column as dates\n",
        "data['date'] = pd.to_datetime(data['date'], format='%Y-%m-%d %H:%M:%S')\n",
        "\n",
        "# Format other columns as decimal numbers\n",
        "for c in data.columns[1:]: data[c] = data[c].str.replace(',', '.').astype(float)"
      ]
    },
    {
      "cell_type": "markdown",
      "id": "iBmBa4DTZtVg",
      "metadata": {
        "id": "iBmBa4DTZtVg"
      },
      "source": [
        "Check data size and shape"
      ]
    },
    {
      "cell_type": "code",
      "execution_count": 17,
      "id": "5a3dwJhjZvRi",
      "metadata": {
        "colab": {
          "base_uri": "https://localhost:8080/"
        },
        "id": "5a3dwJhjZvRi",
        "outputId": "e9e69cc1-deac-4515-eba8-33fc3f3bb804"
      },
      "outputs": [
        {
          "name": "stdout",
          "output_type": "stream",
          "text": [
            "(4097, 24)\n"
          ]
        }
      ],
      "source": [
        "print(data.shape)"
      ]
    },
    {
      "cell_type": "markdown",
      "id": "-y_40xTraat_",
      "metadata": {
        "id": "-y_40xTraat_"
      },
      "source": [
        "## Data preprocessing"
      ]
    },
    {
      "cell_type": "markdown",
      "id": "fcd27f25",
      "metadata": {},
      "source": [
        "Resampling the data"
      ]
    },
    {
      "cell_type": "code",
      "execution_count": 15,
      "id": "8c5801d0",
      "metadata": {},
      "outputs": [],
      "source": [
        "# Resample the data to 1 hour frequency\n",
        "data = data.groupby(\"date\").mean(numeric_only=True).reset_index()"
      ]
    },
    {
      "cell_type": "markdown",
      "id": "WUs3syAYaYfK",
      "metadata": {
        "id": "WUs3syAYaYfK"
      },
      "source": [
        "Normalizing the data"
      ]
    },
    {
      "cell_type": "code",
      "execution_count": 16,
      "id": "F1HyhIAYa3N4",
      "metadata": {
        "colab": {
          "base_uri": "https://localhost:8080/"
        },
        "id": "F1HyhIAYa3N4",
        "outputId": "d15364e1-fa0a-4ccb-e1b4-f2444f935d47"
      },
      "outputs": [],
      "source": [
        "numerical_cols = data[data.columns[1:]] # Normalize all columns except the date column\n",
        "\n",
        "means = numerical_cols.mean()\n",
        "stds = numerical_cols.std()\n",
        "\n",
        "data[data.columns[1:]] = (numerical_cols - means) / stds"
      ]
    }
  ],
  "metadata": {
    "colab": {
      "include_colab_link": true,
      "provenance": []
    },
    "kernelspec": {
      "display_name": "Python 3",
      "language": "python",
      "name": "python3"
    },
    "language_info": {
      "codemirror_mode": {
        "name": "ipython",
        "version": 3
      },
      "file_extension": ".py",
      "mimetype": "text/x-python",
      "name": "python",
      "nbconvert_exporter": "python",
      "pygments_lexer": "ipython3",
      "version": "3.13.5"
    }
  },
  "nbformat": 4,
  "nbformat_minor": 5
}
