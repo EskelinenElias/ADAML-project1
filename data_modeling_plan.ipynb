{
  "cells": [
    {
      "cell_type": "markdown",
      "metadata": {
        "id": "view-in-github",
        "colab_type": "text"
      },
      "source": [
        "<a href=\"https://colab.research.google.com/github/EskelinenElias/ADAML-project1/blob/main/data_modeling_plan.ipynb\" target=\"_parent\"><img src=\"https://colab.research.google.com/assets/colab-badge.svg\" alt=\"Open In Colab\"/></a>"
      ]
    },
    {
      "cell_type": "markdown",
      "id": "c0aa8be4",
      "metadata": {
        "id": "c0aa8be4"
      },
      "source": [
        "# Data modeling plan\n",
        "\n",
        "LUT University \\\n",
        "BM20A6100 Advanced Data Analysis and Machine Learning - Blended teaching, Lpr 1.9.2025-12.12.2025 \\\n",
        "1st Period - Project work - Submission 2 - Data Modeling Plan\n",
        "\n",
        "Elias Eskelinen, Vili Niemelä & Matti Aalto \\\n",
        "25.9.2025"
      ]
    },
    {
      "cell_type": "markdown",
      "id": "5e078909",
      "metadata": {
        "id": "5e078909"
      },
      "source": [
        "---"
      ]
    },
    {
      "cell_type": "markdown",
      "id": "6c6b7c57",
      "metadata": {
        "id": "6c6b7c57"
      },
      "source": [
        "## Data onboarding"
      ]
    },
    {
      "cell_type": "code",
      "execution_count": null,
      "id": "2c999d9f",
      "metadata": {
        "id": "2c999d9f",
        "outputId": "374a182d-688f-4d4c-b9ec-45ebe451a18a"
      },
      "outputs": [
        {
          "name": "stdout",
          "output_type": "stream",
          "text": [
            "Hello, world!\n"
          ]
        }
      ],
      "source": [
        "import numpy as np\n",
        "\n",
        "print(\"Hello, world!\")\n",
        "\n",
        "print(\"Test!\")"
      ]
    }
  ],
  "metadata": {
    "kernelspec": {
      "display_name": "Python 3",
      "language": "python",
      "name": "python3"
    },
    "language_info": {
      "codemirror_mode": {
        "name": "ipython",
        "version": 3
      },
      "file_extension": ".py",
      "mimetype": "text/x-python",
      "name": "python",
      "nbconvert_exporter": "python",
      "pygments_lexer": "ipython3",
      "version": "3.13.5"
    },
    "colab": {
      "provenance": [],
      "include_colab_link": true
    }
  },
  "nbformat": 4,
  "nbformat_minor": 5
}