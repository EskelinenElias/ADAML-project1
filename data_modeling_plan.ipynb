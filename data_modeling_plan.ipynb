{
  "cells": [
    {
      "cell_type": "markdown",
      "metadata": {
        "id": "view-in-github",
        "colab_type": "text"
      },
      "source": [
        "<a href=\"https://colab.research.google.com/github/EskelinenElias/ADAML-project1/blob/main/data_modeling_plan.ipynb\" target=\"_parent\"><img src=\"https://colab.research.google.com/assets/colab-badge.svg\" alt=\"Open In Colab\"/></a>"
      ]
    },
    {
      "cell_type": "markdown",
      "id": "c0aa8be4",
      "metadata": {
        "id": "c0aa8be4"
      },
      "source": [
        "# ADAML Project Work: Intermediary Submission 2 - Data Modeling Plan\n",
        "\n",
        "LUT University \\\n",
        "BM20A6100 Advanced Data Analysis and Machine Learning - Blended teaching, Lpr 1.9.2025-12.12.2025 \\\n",
        "1st Period - Project work - Intermediary Submission 2 - Data modeling plan\n",
        "\n",
        "Elias Eskelinen, Vili Niemelä & Matti Aalto \\\n",
        "25.9.2025"
      ]
    },
    {
      "cell_type": "markdown",
      "id": "5e078909",
      "metadata": {
        "id": "5e078909"
      },
      "source": [
        "---"
      ]
    },
    {
      "cell_type": "markdown",
      "source": [
        "## Intermediary Submission 2 - Instructions\n",
        "\n",
        "Based on your initial evaluation, the received feedback and the strategies of other groups, perform data pretreatment. There will be a max. 2 pages addition to your project PDF for the pretreatment part.\n",
        "\n",
        "Breakdown of the points:\n",
        "\n",
        "0.5p   - feedback incorporation and adjustment of the initial pretreatment plan\n",
        "0.5p  - data centering and scaling techniques\n",
        "0.5p  - evaluation of extreme/ missing values and mitigating actions, data synchronization (for time series), sampling\n",
        "0.5p   - visualizing pretreated data\n",
        "Modelling plan\n",
        "\n",
        "Make a modelling plan for your modelling goal. Create a flowchart of the operations needed to accomplish the task, and assign roles to the team members for each step. The start of each flow chart should be the cleaned data, and the end of it should be the modelling goal achieved. If there is more than one modelling goal, the flowchart can take multiple paths. There will be a max. 2 pages addition to your project PDF for the modelling plan part.\n",
        "\n",
        "0.5p     - modelling goal (What is the purpose of your data analysis?);\n",
        "0.5p     - model calibration strategy: tools used, methodology, data used;\n",
        "0.5p     - model validation strategy: scope of validation, methodology;\n",
        "0.5p     - model testing strategy: metrics and data used;\n",
        "0.5p     - description of the mathematical methods used in modelling;\n",
        "0.5p     - model diagram/ operations flowchart.\n"
      ],
      "metadata": {
        "id": "lIUkxsW8URsX"
      },
      "id": "lIUkxsW8URsX"
    },
    {
      "cell_type": "markdown",
      "id": "6c6b7c57",
      "metadata": {
        "id": "6c6b7c57"
      },
      "source": [
        "## Data onboarding"
      ]
    }
  ],
  "metadata": {
    "colab": {
      "provenance": [],
      "include_colab_link": true
    },
    "kernelspec": {
      "display_name": "Python 3",
      "language": "python",
      "name": "python3"
    },
    "language_info": {
      "codemirror_mode": {
        "name": "ipython",
        "version": 3
      },
      "file_extension": ".py",
      "mimetype": "text/x-python",
      "name": "python",
      "nbconvert_exporter": "python",
      "pygments_lexer": "ipython3",
      "version": "3.13.5"
    }
  },
  "nbformat": 4,
  "nbformat_minor": 5
}