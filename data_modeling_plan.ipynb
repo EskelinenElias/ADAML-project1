{
 "cells": [
  {
   "cell_type": "markdown",
   "id": "c0aa8be4",
   "metadata": {},
   "source": [
    "# Data modeling plan \n",
    "\n",
    "LUT University \\\n",
    "BM20A6100 Advanced Data Analysis and Machine Learning - Blended teaching, Lpr 1.9.2025-12.12.2025 \\\n",
    "1st Period - Project work - Submission 2 - Data Modeling Plan\n",
    "\n",
    "Elias Eskelinen, Vili Niemelä & Matti Aalto \\\n",
    "25.9.2025"
   ]
  },
  {
   "cell_type": "markdown",
   "id": "5e078909",
   "metadata": {},
   "source": [
    "---"
   ]
  },
  {
   "cell_type": "markdown",
   "id": "6c6b7c57",
   "metadata": {},
   "source": [
    "## Data onboarding"
   ]
  },
  {
   "cell_type": "code",
   "execution_count": 3,
   "id": "2c999d9f",
   "metadata": {},
   "outputs": [
    {
     "name": "stdout",
     "output_type": "stream",
     "text": [
      "Hello, world!\n"
     ]
    }
   ],
   "source": [
    "import numpy as np\n",
    "\n",
    "print(\"Hello, world!\")"
   ]
  }
 ],
 "metadata": {
  "kernelspec": {
   "display_name": "Python 3",
   "language": "python",
   "name": "python3"
  },
  "language_info": {
   "codemirror_mode": {
    "name": "ipython",
    "version": 3
   },
   "file_extension": ".py",
   "mimetype": "text/x-python",
   "name": "python",
   "nbconvert_exporter": "python",
   "pygments_lexer": "ipython3",
   "version": "3.13.5"
  }
 },
 "nbformat": 4,
 "nbformat_minor": 5
}
